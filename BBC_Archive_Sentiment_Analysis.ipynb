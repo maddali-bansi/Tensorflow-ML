{
  "nbformat": 4,
  "nbformat_minor": 0,
  "metadata": {
    "colab": {
      "name": "BBC-Archive-Sentiment-Analysis.ipynb",
      "provenance": [],
      "collapsed_sections": [],
      "authorship_tag": "ABX9TyNxVqgdxGFw6+1kUCoARDX/",
      "include_colab_link": true
    },
    "kernelspec": {
      "name": "python3",
      "display_name": "Python 3"
    },
    "accelerator": "GPU"
  },
  "cells": [
    {
      "cell_type": "markdown",
      "metadata": {
        "id": "view-in-github",
        "colab_type": "text"
      },
      "source": [
        "<a href=\"https://colab.research.google.com/github/maddali-bansi/Tensorflow-NLP/blob/master/BBC_Archive_Sentiment_Analysis.ipynb\" target=\"_parent\"><img src=\"https://colab.research.google.com/assets/colab-badge.svg\" alt=\"Open In Colab\"/></a>"
      ]
    },
    {
      "cell_type": "markdown",
      "metadata": {
        "id": "k31NGJ5AjdPN"
      },
      "source": [
        "Copyright 2020 Bansi Maddali <br>\r\n",
        "Github : https://github.com/maddali-bansi/Tensorflow-NLP <br>\r\n",
        "Dataset Source : https://www.kaggle.com/yufengdev/bbc-fulltext-and-category"
      ]
    },
    {
      "cell_type": "markdown",
      "metadata": {
        "id": "BH3cTTl2kktg"
      },
      "source": [
        "1.Problem Description\r\n",
        "\r\n",
        "---\r\n",
        "We have the BBC news dataset , which has two columns.One for the actual article and other for the type of the category.<br>Our target is to build a NLP Model which will input the article and give its respective category.\r\n",
        "\r\n"
      ]
    },
    {
      "cell_type": "markdown",
      "metadata": {
        "id": "ertg5banlQE0"
      },
      "source": [
        "2.Problem Approach\r\n",
        "\r\n",
        "---\r\n",
        "We build the network using Keras layers of Embedding and Bi-Directional LSTM.\r\n"
      ]
    },
    {
      "cell_type": "markdown",
      "metadata": {
        "id": "HNMKNW1doHwV"
      },
      "source": [
        "3.Data Processing\r\n",
        "\r\n",
        "---\r\n",
        "\r\n",
        "\r\n",
        "\r\n",
        "\r\n"
      ]
    },
    {
      "cell_type": "code",
      "metadata": {
        "colab": {
          "base_uri": "https://localhost:8080/"
        },
        "id": "-IR9c9ojjXX4",
        "outputId": "b6b537d8-588e-43f7-8cb4-f7c87408db9f"
      },
      "source": [
        "#Get the cleaned up data \r\n",
        "!wget --no-check-certificate https://storage.googleapis.com/dataset-uploader/bbc/bbc-text.csv -O bbc-text.csv"
      ],
      "execution_count": null,
      "outputs": [
        {
          "output_type": "stream",
          "text": [
            "--2021-02-04 13:03:35--  https://storage.googleapis.com/dataset-uploader/bbc/bbc-text.csv\n",
            "Resolving storage.googleapis.com (storage.googleapis.com)... 64.233.189.128, 108.177.97.128, 74.125.203.128, ...\n",
            "Connecting to storage.googleapis.com (storage.googleapis.com)|64.233.189.128|:443... connected.\n",
            "HTTP request sent, awaiting response... 200 OK\n",
            "Length: 5057493 (4.8M) [text/csv]\n",
            "Saving to: ‘bbc-text.csv’\n",
            "\n",
            "\rbbc-text.csv          0%[                    ]       0  --.-KB/s               \rbbc-text.csv        100%[===================>]   4.82M  --.-KB/s    in 0.04s   \n",
            "\n",
            "2021-02-04 13:03:35 (114 MB/s) - ‘bbc-text.csv’ saved [5057493/5057493]\n",
            "\n"
          ],
          "name": "stdout"
        }
      ]
    },
    {
      "cell_type": "code",
      "metadata": {
        "colab": {
          "base_uri": "https://localhost:8080/"
        },
        "id": "L0A-CduJmDZj",
        "outputId": "5bb94657-25a1-4400-8e8c-b9f0e9862917"
      },
      "source": [
        "#Examine the Data in the file\r\n",
        "import csv\r\n",
        "with open('bbc-text.csv') as csvfile:\r\n",
        "  csv_reader = csv.reader(csvfile,delimiter=',')\r\n",
        "  preview_lines = 2\r\n",
        "  for row in csv_reader:\r\n",
        "    print(row)\r\n",
        "    preview_lines = preview_lines - 1\r\n",
        "    if(preview_lines==0):\r\n",
        "      break"
      ],
      "execution_count": null,
      "outputs": [
        {
          "output_type": "stream",
          "text": [
            "['category', 'text']\n",
            "['tech', 'tv future in the hands of viewers with home theatre systems  plasma high-definition tvs  and digital video recorders moving into the living room  the way people watch tv will be radically different in five years  time.  that is according to an expert panel which gathered at the annual consumer electronics show in las vegas to discuss how these new technologies will impact one of our favourite pastimes. with the us leading the trend  programmes and other content will be delivered to viewers via home networks  through cable  satellite  telecoms companies  and broadband service providers to front rooms and portable devices.  one of the most talked-about technologies of ces has been digital and personal video recorders (dvr and pvr). these set-top boxes  like the us s tivo and the uk s sky+ system  allow people to record  store  play  pause and forward wind tv programmes when they want.  essentially  the technology allows for much more personalised tv. they are also being built-in to high-definition tv sets  which are big business in japan and the us  but slower to take off in europe because of the lack of high-definition programming. not only can people forward wind through adverts  they can also forget about abiding by network and channel schedules  putting together their own a-la-carte entertainment. but some us networks and cable and satellite companies are worried about what it means for them in terms of advertising revenues as well as  brand identity  and viewer loyalty to channels. although the us leads in this technology at the moment  it is also a concern that is being raised in europe  particularly with the growing uptake of services like sky+.  what happens here today  we will see in nine months to a years  time in the uk   adam hume  the bbc broadcast s futurologist told the bbc news website. for the likes of the bbc  there are no issues of lost advertising revenue yet. it is a more pressing issue at the moment for commercial uk broadcasters  but brand loyalty is important for everyone.  we will be talking more about content brands rather than network brands   said tim hanlon  from brand communications firm starcom mediavest.  the reality is that with broadband connections  anybody can be the producer of content.  he added:  the challenge now is that it is hard to promote a programme with so much choice.   what this means  said stacey jolna  senior vice president of tv guide tv group  is that the way people find the content they want to watch has to be simplified for tv viewers. it means that networks  in us terms  or channels could take a leaf out of google s book and be the search engine of the future  instead of the scheduler to help people find what they want to watch. this kind of channel model might work for the younger ipod generation which is used to taking control of their gadgets and what they play on them. but it might not suit everyone  the panel recognised. older generations are more comfortable with familiar schedules and channel brands because they know what they are getting. they perhaps do not want so much of the choice put into their hands  mr hanlon suggested.  on the other end  you have the kids just out of diapers who are pushing buttons already - everything is possible and available to them   said mr hanlon.  ultimately  the consumer will tell the market they want.   of the 50 000 new gadgets and technologies being showcased at ces  many of them are about enhancing the tv-watching experience. high-definition tv sets are everywhere and many new models of lcd (liquid crystal display) tvs have been launched with dvr capability built into them  instead of being external boxes. one such example launched at the show is humax s 26-inch lcd tv with an 80-hour tivo dvr and dvd recorder. one of the us s biggest satellite tv companies  directtv  has even launched its own branded dvr at the show with 100-hours of recording capability  instant replay  and a search function. the set can pause and rewind tv for up to 90 hours. and microsoft chief bill gates announced in his pre-show keynote speech a partnership with tivo  called tivotogo  which means people can play recorded programmes on windows pcs and mobile devices. all these reflect the increasing trend of freeing up multimedia so that people can watch what they want  when they want.']\n"
          ],
          "name": "stdout"
        }
      ]
    },
    {
      "cell_type": "code",
      "metadata": {
        "colab": {
          "base_uri": "https://localhost:8080/"
        },
        "id": "b0DBo8mimwh3",
        "outputId": "e9cf2241-dff1-44a2-c867-fbc63f3a2964"
      },
      "source": [
        "#Clean the Stopwords ,  We use NLTK library to filter the stop words in sentences.\r\n",
        "import nltk\r\n",
        "nltk.download(\"stopwords\")\r\n",
        "from nltk.corpus import stopwords\r\n",
        "\r\n",
        "#Segregate Labels and Sentences\r\n",
        "labels = []\r\n",
        "articles = []\r\n",
        "\r\n",
        "import csv\r\n",
        "with open('bbc-text.csv') as csvfile:\r\n",
        "  csv_reader = csv.reader(csvfile,delimiter=',')\r\n",
        "\r\n",
        "  #skip the first row as they are column names\r\n",
        "  next(csv_reader)\r\n",
        "  \r\n",
        "  for row in csv_reader:\r\n",
        "    labels.append(row[0])\r\n",
        "    \r\n",
        "    article = row[1]\r\n",
        "    for stopword in stopwords.words('english'):\r\n",
        "      stopword = \" \"+stopword+\" \" # As space is also a character string\r\n",
        "      article = article.replace(stopword, \" \") # Preserve space between pre and post words of stopwords\r\n",
        "      article = article.replace(\"  \", \" \") # Convert double spacing to single spacing if any\r\n",
        "    articles.append(article)\r\n",
        "\r\n",
        "\r\n",
        "print('Total Number of Lables',len(labels))\r\n",
        "print('Total Number of Articles',len(articles))\r\n",
        "print(\"Article : \" ,articles[0])"
      ],
      "execution_count": null,
      "outputs": [
        {
          "output_type": "stream",
          "text": [
            "[nltk_data] Downloading package stopwords to /root/nltk_data...\n",
            "[nltk_data]   Package stopwords is already up-to-date!\n",
            "Total Number of Lables 2225\n",
            "Total Number of Articles 2225\n",
            "Article :  tv future hands viewers home theatre systems plasma high-definition tvs digital video recorders moving living room way people watch tv radically different five years time. according expert panel gathered annual consumer electronics show las vegas discuss new technologies impact one favourite pastimes. us leading trend programmes content delivered viewers via home networks cable satellite telecoms companies broadband service providers front rooms portable devices. one talked-about technologies ces digital personal video recorders (dvr pvr). set-top boxes like us tivo uk sky+ system allow people record store play pause forward wind tv programmes want. essentially technology allows much personalised tv. also built-in high-definition tv sets big business japan us slower take europe lack high-definition programming. people forward wind adverts also forget abiding network channel schedules putting together a-la-carte entertainment. us networks cable satellite companies worried means terms advertising revenues well brand identity viewer loyalty channels. although us leads technology moment also concern raised europe particularly growing uptake services like sky+. happens today see nine months years time uk adam hume bbc broadcast futurologist told bbc news website. likes bbc issues lost advertising revenue yet. pressing issue moment commercial uk broadcasters brand loyalty important everyone. talking content brands rather network brands said tim hanlon brand communications firm starcom mediavest. reality broadband connections anybody producer content. added: challenge is hard promote programme much choice. means said stacey jolna senior vice president tv guide tv group way people find content want watch simplified tv viewers. means networks us terms channels could take leaf google book search engine future instead scheduler help people find want watch. kind channel model might work younger ipod generation used taking control gadgets play them. might suit everyone panel recognised. older generations comfortable familiar schedules channel brands know getting. perhaps want much choice put hands mr hanlon suggested. end kids diapers pushing buttons already - everything possible available said mr hanlon. ultimately consumer tell market want. 50 000 new gadgets technologies showcased ces many enhancing tv-watching experience. high-definition tv sets everywhere many new models lcd (liquid crystal display) tvs launched dvr capability built instead external boxes. one example launched show humax 26-inch lcd tv 80-hour tivo dvr dvd recorder. one us biggest satellite tv companies directtv even launched branded dvr show 100-hours recording capability instant replay search function. set pause rewind tv 90 hours. microsoft chief bill gates announced pre-show keynote speech partnership tivo called tivotogo means people play recorded programmes windows pcs mobile devices. reflect increasing trend freeing multimedia people watch want want.\n"
          ],
          "name": "stdout"
        }
      ]
    },
    {
      "cell_type": "code",
      "metadata": {
        "colab": {
          "base_uri": "https://localhost:8080/"
        },
        "id": "_A8QRz7AvdT6",
        "outputId": "d13f9195-9073-47fc-fee7-fbee7866d950"
      },
      "source": [
        "print(\"Total Classes = \",set(labels))"
      ],
      "execution_count": null,
      "outputs": [
        {
          "output_type": "stream",
          "text": [
            "Total Classes =  {'entertainment', 'business', 'tech', 'sport', 'politics'}\n"
          ],
          "name": "stdout"
        }
      ]
    },
    {
      "cell_type": "markdown",
      "metadata": {
        "id": "aFS-GnxNslnB"
      },
      "source": [
        "4.Generate Tokens and Sequences\r\n",
        "\r\n",
        "---"
      ]
    },
    {
      "cell_type": "code",
      "metadata": {
        "id": "uW2B-QhlobtH"
      },
      "source": [
        "from tensorflow.keras.preprocessing.text import Tokenizer\r\n",
        "from tensorflow.keras.preprocessing.sequence import pad_sequences"
      ],
      "execution_count": null,
      "outputs": []
    },
    {
      "cell_type": "code",
      "metadata": {
        "id": "KMSGbz8L8tdY"
      },
      "source": [
        "vocabulary_size = 10000\r\n",
        "embedding_dim = 64\r\n",
        "max_length_article = 200\r\n",
        "trunc_type = 'post'\r\n",
        "padding_type='post'\r\n",
        "oov_token = '<OOV>'"
      ],
      "execution_count": null,
      "outputs": []
    },
    {
      "cell_type": "code",
      "metadata": {
        "id": "inshi20pVNu4"
      },
      "source": [
        "train_size = int(0.8*len(labels))\r\n",
        "train_labels = labels[0:train_size] \r\n",
        "train_articles = articles[0:train_size]\r\n",
        "test_labels = labels[train_size:]\r\n",
        "test_articles = articles[train_size:]"
      ],
      "execution_count": null,
      "outputs": []
    },
    {
      "cell_type": "code",
      "metadata": {
        "id": "In-RrZUG8Z2e"
      },
      "source": [
        "bbc_tokenizer = Tokenizer(num_words=vocabulary_size, oov_token=oov_token)"
      ],
      "execution_count": null,
      "outputs": []
    },
    {
      "cell_type": "code",
      "metadata": {
        "colab": {
          "base_uri": "https://localhost:8080/"
        },
        "id": "_pxstw78sr82",
        "outputId": "b8ca22ad-ad1d-42c8-e289-2c815c13806c"
      },
      "source": [
        "bbc_tokenizer.fit_on_texts(train_articles)\r\n",
        "word_index = bbc_tokenizer.word_index\r\n",
        "print(len(word_index))"
      ],
      "execution_count": null,
      "outputs": [
        {
          "output_type": "stream",
          "text": [
            "27270\n"
          ],
          "name": "stdout"
        }
      ]
    },
    {
      "cell_type": "code",
      "metadata": {
        "id": "2BofkvIBrrzc"
      },
      "source": [
        "import numpy as np\r\n",
        "train_sequences = bbc_tokenizer.texts_to_sequences(train_articles)\r\n",
        "train_padded = np.array(pad_sequences(train_sequences,maxlen=max_length_article, padding=padding_type, truncating=trunc_type))"
      ],
      "execution_count": null,
      "outputs": []
    },
    {
      "cell_type": "code",
      "metadata": {
        "id": "sxNEdCtotFTE"
      },
      "source": [
        "test_sequences = bbc_tokenizer.texts_to_sequences(test_articles)\r\n",
        "test_padded = np.array(pad_sequences(test_sequences,maxlen=max_length_article, padding=padding_type, truncating=trunc_type))"
      ],
      "execution_count": null,
      "outputs": []
    },
    {
      "cell_type": "code",
      "metadata": {
        "id": "9s80rIGvzqAH"
      },
      "source": [
        "import numpy as np\r\n",
        "label_tokenizer = Tokenizer()\r\n",
        "label_tokenizer.fit_on_texts(labels)\r\n",
        "training_label_seq = np.array(label_tokenizer.texts_to_sequences(train_labels))\r\n",
        "test_label_seq = np.array(label_tokenizer.texts_to_sequences(test_labels))"
      ],
      "execution_count": null,
      "outputs": []
    },
    {
      "cell_type": "code",
      "metadata": {
        "colab": {
          "base_uri": "https://localhost:8080/"
        },
        "id": "PjA0bZit3QIr",
        "outputId": "40bc3f17-2ec3-4a1d-8f3b-ab924b77384f"
      },
      "source": [
        "label_tokenizer.word_index"
      ],
      "execution_count": null,
      "outputs": [
        {
          "output_type": "execute_result",
          "data": {
            "text/plain": [
              "{'business': 2, 'entertainment': 5, 'politics': 3, 'sport': 1, 'tech': 4}"
            ]
          },
          "metadata": {
            "tags": []
          },
          "execution_count": 23
        }
      ]
    },
    {
      "cell_type": "markdown",
      "metadata": {
        "id": "MAr6FONWuZ7B"
      },
      "source": [
        "5.Build the Network\r\n",
        "\r\n",
        "___"
      ]
    },
    {
      "cell_type": "code",
      "metadata": {
        "colab": {
          "base_uri": "https://localhost:8080/"
        },
        "id": "-3FLDt37t3la",
        "outputId": "d4ad53f2-35da-46e9-a77a-321d0495f48d"
      },
      "source": [
        "from tensorflow.keras.models import Sequential\r\n",
        "from tensorflow.keras.layers import Embedding,LSTM,Dense,Bidirectional,GlobalAveragePooling1D,Dropout\r\n",
        "import tensorflow as tf\r\n",
        "model = Sequential()\r\n",
        "model.add(Embedding(vocabulary_size, embedding_dim))\r\n",
        "model.add(Dropout(0.5))\r\n",
        "model.add(Bidirectional(LSTM(embedding_dim)))\r\n",
        "model.add(Dense(6, activation='softmax'))\r\n",
        "opt = tf.keras.optimizers.Adam(lr=0.001, decay=1e-6)\r\n",
        "model.compile(loss='sparse_categorical_crossentropy',optimizer=opt,metrics=['accuracy'])\r\n",
        "model.summary()\r\n",
        "\r\n"
      ],
      "execution_count": null,
      "outputs": [
        {
          "output_type": "stream",
          "text": [
            "Model: \"sequential_1\"\n",
            "_________________________________________________________________\n",
            "Layer (type)                 Output Shape              Param #   \n",
            "=================================================================\n",
            "embedding_1 (Embedding)      (None, None, 64)          640000    \n",
            "_________________________________________________________________\n",
            "dropout_1 (Dropout)          (None, None, 64)          0         \n",
            "_________________________________________________________________\n",
            "bidirectional_1 (Bidirection (None, 128)               66048     \n",
            "_________________________________________________________________\n",
            "dense_1 (Dense)              (None, 6)                 774       \n",
            "=================================================================\n",
            "Total params: 706,822\n",
            "Trainable params: 706,822\n",
            "Non-trainable params: 0\n",
            "_________________________________________________________________\n"
          ],
          "name": "stdout"
        }
      ]
    },
    {
      "cell_type": "code",
      "metadata": {
        "colab": {
          "base_uri": "https://localhost:8080/"
        },
        "id": "aY_-AVXzwnJ3",
        "outputId": "2d51acbe-91bd-4770-e670-911fb5ae1a78"
      },
      "source": [
        "num_epochs = 10\r\n",
        "history = model.fit(train_padded, training_label_seq, epochs=num_epochs, validation_data=(test_padded, test_label_seq), verbose=1)"
      ],
      "execution_count": null,
      "outputs": [
        {
          "output_type": "stream",
          "text": [
            "Epoch 1/10\n",
            "56/56 [==============================] - 10s 38ms/step - loss: 1.6865 - accuracy: 0.2661 - val_loss: 1.2667 - val_accuracy: 0.4112\n",
            "Epoch 2/10\n",
            "56/56 [==============================] - 1s 26ms/step - loss: 1.2005 - accuracy: 0.4825 - val_loss: 0.9289 - val_accuracy: 0.6764\n",
            "Epoch 3/10\n",
            "56/56 [==============================] - 1s 25ms/step - loss: 0.9216 - accuracy: 0.6285 - val_loss: 0.7507 - val_accuracy: 0.7798\n",
            "Epoch 4/10\n",
            "56/56 [==============================] - 1s 25ms/step - loss: 0.4450 - accuracy: 0.9153 - val_loss: 0.3861 - val_accuracy: 0.9034\n",
            "Epoch 5/10\n",
            "56/56 [==============================] - 1s 26ms/step - loss: 0.1724 - accuracy: 0.9683 - val_loss: 0.2833 - val_accuracy: 0.9124\n",
            "Epoch 6/10\n",
            "56/56 [==============================] - 1s 26ms/step - loss: 0.0961 - accuracy: 0.9810 - val_loss: 0.2675 - val_accuracy: 0.9348\n",
            "Epoch 7/10\n",
            "56/56 [==============================] - 1s 26ms/step - loss: 0.0620 - accuracy: 0.9942 - val_loss: 0.2136 - val_accuracy: 0.9371\n",
            "Epoch 8/10\n",
            "56/56 [==============================] - 1s 26ms/step - loss: 0.0555 - accuracy: 0.9865 - val_loss: 0.1955 - val_accuracy: 0.9461\n",
            "Epoch 9/10\n",
            "56/56 [==============================] - 1s 25ms/step - loss: 0.0218 - accuracy: 0.9981 - val_loss: 0.2335 - val_accuracy: 0.9236\n",
            "Epoch 10/10\n",
            "56/56 [==============================] - 1s 26ms/step - loss: 0.0174 - accuracy: 1.0000 - val_loss: 0.2148 - val_accuracy: 0.9416\n"
          ],
          "name": "stdout"
        }
      ]
    },
    {
      "cell_type": "code",
      "metadata": {
        "colab": {
          "base_uri": "https://localhost:8080/",
          "height": 541
        },
        "id": "KVCTBjgj6z8q",
        "outputId": "7eb373d2-0abe-4153-82e0-c672aa1cc012"
      },
      "source": [
        "import matplotlib.pyplot as plt\r\n",
        "\r\n",
        "\r\n",
        "def plot_graphs(history, string):\r\n",
        "  plt.plot(history.history[string])\r\n",
        "  plt.plot(history.history['val_'+string])\r\n",
        "  plt.xlabel(\"Epochs\")\r\n",
        "  plt.ylabel(string)\r\n",
        "  plt.legend([string, 'val_'+string])\r\n",
        "  plt.show()\r\n",
        "  \r\n",
        "plot_graphs(history, \"accuracy\")\r\n",
        "plot_graphs(history, \"loss\")"
      ],
      "execution_count": null,
      "outputs": [
        {
          "output_type": "display_data",
          "data": {
            "image/png": "[encoded data removed]",
            "text/plain": [
              "<Figure size 432x288 with 1 Axes>"
            ]
          },
          "metadata": {
            "tags": [],
            "needs_background": "light"
          }
        },
        {
          "output_type": "display_data",
          "data": {
            "image/png": "[encoded data removed]",
            "text/plain": [
              "<Figure size 432x288 with 1 Axes>"
            ]
          },
          "metadata": {
            "tags": [],
            "needs_background": "light"
          }
        }
      ]
    },
    {
      "cell_type": "markdown",
      "metadata": {
        "id": "ICaxn4Il_X_X"
      },
      "source": [
        "6.Testing\r\n",
        "\r\n",
        "___"
      ]
    },
    {
      "cell_type": "code",
      "metadata": {
        "id": "3PP84DQT8L2M",
        "colab": {
          "base_uri": "https://localhost:8080/"
        },
        "outputId": "93c8f35b-fd9c-4ebf-f8de-161973f1c44f"
      },
      "source": [
        "#txt = [\"blair prepares to name poll date tony blair is likely to name 5 may as election day when parliament returns from its easter break  the bbc s political editor has learned.  andrew marr says mr blair will ask the queen on 4 or 5 april to dissolve parliament at the end of that week. mr blair has so far resisted calls for him to name the day but all parties have stepped up campaigning recently. downing street would not be drawn on the claim  saying election timing was a matter for the prime minister.  a number 10 spokeswoman would only say:  he will announce an election when he wants to announce an election.  the move will signal a frantic week at westminster as the government is likely to try to get key legislation through parliament. the government needs its finance bill  covering the budget plans  to be passed before the commons closes for business at the end of the session on 7 april.  but it will also seek to push through its serious and organised crime bill and id cards bill. mr marr said on wednesday s today programme:  there s almost nobody at a senior level inside the government or in parliament itself who doesn t expect the election to be called on 4 or 5 april.  as soon as the commons is back after the short easter recess  tony blair whips up to the palace  asks the queen to dissolve parliament ... and we re going.  the labour government officially has until june 2006 to hold general election  but in recent years governments have favoured four-year terms.\"]\r\n",
        "#txt = [\"Miraz rallied well with the other lower-order batsmen, nearly all of whom managed to score in double digits and the last five batsmen went on to add 237 runs, more than what the top five batters had made for the team.\"]\r\n",
        "#txt = [\"Miraz rallied well with the other lower-order batsmen, nearly all of whom managed to score in double digits and the last five batsmen went on to add 237 runs, more than what the top five batters had made for the team.After that the new-ball burst from pacer Mustafizur Rahman, who removed opener John Campbell and debutant Shayne Moseley to have the visitors stuttering at 24-2, made sure that it was advantage Bangladesh on Day 2 of the Chattogram Test as they lead West Indies by 355 runs.\"]\r\n",
        "#txt = [\"Sources tell CBS Sports that top-ranked Gonzaga is trying to secure a game against a quality opponent for this weekend. A matchup against No. 5 Houston -- to be played in Salt Lake City -- came close to happening, but a source said that the agreement fell through on Monday. (Houston has no scheduled game this weekend; it's a mighty attractive opponent for Mark Few's Bulldogs.) The chase for GU remains, and a source shared one additional team of interest, though it's not a candidate as of today because it has no scheduled openings. If you're curious as to whether or not this mystery team is Baylor, a spoiler: it's not. The Big 12 just had its inter-conference series against the SEC last weekend and has instructed its members that it doesn't want any of them trying to improvise with any games this late in the season against opponents outside conference borders.\"]\r\n",
        "txt = [\"Basketball, colloquially referred to as hoops,[1] is a team sport in which two teams, most commonly of five players each, opposing one another on a rectangular court, compete with the primary objective of shooting a basketball (approximately 9.4 inches (24 cm) in diameter) through the defender's hoop (a basket 18 inches (46 cm) in diameter mounted 10 feet (3.048 m) high to a backboard at each end of the court) while preventing the opposing team from shooting through their own hoop. A field goal is worth two points, unless made from behind the three-point line, when it is worth three. After a foul, timed play stops and the player fouled or designated to shoot a technical foul is given one, two or three one-point free throws. The team with the most points at the end of the game wins, but if regulation play expires with the score tied, an additional period of play (overtime) is mandated.Players advance the ball by bouncing it while walking or running (dribbling) or by passing it to a teammate, both of which require considerable skill. On offense, players may use a variety of shots—the lay-up, the jump shot, or a dunk; on defense, they may steal the ball from a dribbler, intercept passes, or block shots; either offense or defense may collect a rebound, that is, a missed shot that bounces from rim or backboard. It is a violation to lift or drag one's pivot foot without dribbling the ball, to carry it, or to hold the ball with both hands then resume dribbling.The five players on each side fall into five playing positions. The tallest player is usually the center, the second-tallest and strongest is the power forward, a slightly shorter but more agile player is the small forward, and the shortest players or the best ball handlers are the shooting guard and the point guard, who implements the coach's game plan by managing the execution of offensive and defensive plays (player positioning). Informally, players may play three-on-three, two-on-two, and one-on-one.Invented in 1891 by Canadian-American gym teacher James Naismith in Springfield, Massachusetts, United States, basketball has evolved to become one of the world's most popular and widely viewed sports.[2] The National Basketball Association (NBA) is the most significant professional basketball league in the world in terms of popularity, salaries, talent, and level of competition.[3][4] Outside North America, the top clubs from national leagues qualify to continental championships such as the EuroLeague and the Basketball Champions League Americas. The FIBA Basketball World Cup and Mens Olympic Basketball Tournament are the major international events of the sport and attract top national teams from around the world. Each continent hosts regional competitions for national teams, like EuroBasket and FIBA AmeriCup.\"]\r\n",
        "seq = bbc_tokenizer.texts_to_sequences(txt)\r\n",
        "padded = pad_sequences(seq, maxlen=max_length_article)\r\n",
        "pred = model.predict(padded)\r\n",
        "#{'business': 2, 'entertainment': 5, 'politics': 3, 'sport': 1, 'tech': 4}\r\n",
        "labels = ['sport', 'bussiness', 'politics', 'tech', 'entertainment'] \r\n",
        "print(pred)\r\n",
        "print(np.argmax(pred))\r\n",
        "print(labels[np.argmax(pred)-1])"
      ],
      "execution_count": null,
      "outputs": [
        {
          "output_type": "stream",
          "text": [
            "[[0.00096282 0.8572391  0.02492874 0.04591267 0.02413679 0.04681986]]\n",
            "1\n",
            "sport\n"
          ],
          "name": "stdout"
        }
      ]
    }
  ]
}